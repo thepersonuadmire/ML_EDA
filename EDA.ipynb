{
  "nbformat": 4,
  "nbformat_minor": 0,
  "metadata": {
    "colab": {
      "provenance": [],
      "authorship_tag": "ABX9TyPmyWB7jkj8M8cHeWPWeMAe",
      "include_colab_link": true
    },
    "kernelspec": {
      "name": "python3",
      "display_name": "Python 3"
    },
    "language_info": {
      "name": "python"
    }
  },
  "cells": [
    {
      "cell_type": "markdown",
      "metadata": {
        "id": "view-in-github",
        "colab_type": "text"
      },
      "source": [
        "<a href=\"https://colab.research.google.com/github/thepersonuadmire/ML_EDA/blob/main/EDA.ipynb\" target=\"_parent\"><img src=\"https://colab.research.google.com/assets/colab-badge.svg\" alt=\"Open In Colab\"/></a>"
      ]
    },
    {
      "cell_type": "markdown",
      "source": [
        "EDA - 1"
      ],
      "metadata": {
        "id": "7xVo4zI_RNGJ"
      }
    },
    {
      "cell_type": "code",
      "source": [
        "import pandas as pd\n",
        "import numpy as np\n",
        "import matplotlib.pyplot as plt\n",
        "import seaborn as sns\n",
        "\n",
        "# Load the dataset\n",
        "df = pd.read_csv(\"bike_details.csv\")\n",
        "\n",
        "# 1. Range of selling prices\n",
        "price_range = df['selling_price'].max() - df['selling_price'].min()\n",
        "\n",
        "# 2. Median selling price\n",
        "median_price = df['selling_price'].median()\n",
        "\n",
        "# 3. Most common seller type\n",
        "common_seller = df['seller_type'].mode()[0]\n",
        "\n",
        "# 4. Count of bikes driven more than 50,000 km\n",
        "high_mileage_bikes = df[df['km_driven'] > 50000].shape[0]\n",
        "\n",
        "# 5. Average km_driven per ownership type\n",
        "avg_km_by_owner = df.groupby('owner')['km_driven'].mean()\n",
        "\n",
        "# 6. Proportion of bikes from 2015 or older\n",
        "older_bikes = (df[df['year'] <= 2015].shape[0]) / df.shape[0]\n",
        "\n",
        "# 7. Trend of missing values\n",
        "missing_values = df.isnull().sum()\n",
        "\n",
        "# 8. Highest ex-showroom price and corresponding bike\n",
        "max_ex_showroom = df.loc[df['ex_showroom_price'].idxmax(), ['name', 'ex_showroom_price']]\n",
        "\n",
        "# 9. Total bikes listed by each seller type\n",
        "bikes_by_seller = df['seller_type'].value_counts()\n",
        "\n",
        "# 10. Relationship between selling price and km_driven for first-owner bikes\n",
        "sns.scatterplot(data=df[df['owner'] == '1st owner'], x='km_driven', y='selling_price')\n",
        "\n",
        "# 11. Remove outliers in km_driven using IQR\n",
        "Q1 = df['km_driven'].quantile(0.25)\n",
        "Q3 = df['km_driven'].quantile(0.75)\n",
        "IQR = Q3 - Q1\n",
        "df_cleaned = df[(df['km_driven'] >= (Q1 - 1.5 * IQR)) & (df['km_driven'] <= (Q3 + 1.5 * IQR))]\n",
        "\n",
        "# 12. Bivariate analysis of year vs. selling_price\n",
        "sns.scatterplot(data=df, x='year', y='selling_price')\n",
        "\n",
        "# 13. Average depreciation in selling price based on age\n",
        "df['bike_age'] = 2024 - df['year']\n",
        "depreciation = df.groupby('bike_age')['selling_price'].mean()\n",
        "\n",
        "# 14. Bikes priced significantly above the average for their manufacturing year\n",
        "year_avg_price = df.groupby('year')['selling_price'].mean()\n",
        "df['above_avg'] = df.apply(lambda row: row['selling_price'] > year_avg_price[row['year']], axis=1)\n",
        "above_avg_bikes = df[df['above_avg']][['name', 'selling_price', 'year']]\n",
        "\n",
        "# 15. Correlation matrix and heatmap\n",
        "correlation_matrix = df[['selling_price', 'km_driven', 'ex_showroom_price', 'year']].corr()\n",
        "sns.heatmap(correlation_matrix, annot=True, cmap=\"coolwarm\")\n",
        "\n",
        "plt.show()\n"
      ],
      "metadata": {
        "id": "MBSMeJxlRQJC"
      },
      "execution_count": null,
      "outputs": []
    },
    {
      "cell_type": "markdown",
      "source": [
        "EDA - 2"
      ],
      "metadata": {
        "id": "y98DB7-1RWYk"
      }
    },
    {
      "cell_type": "code",
      "source": [
        "df = pd.read_csv(\"car_sales.csv\")\n",
        "\n",
        "# 1. Average selling price per dealer\n",
        "avg_price_per_dealer = df.groupby('Dealer_Name')['Price ($)'].mean()\n",
        "\n",
        "# 2. Car brand with highest price variation\n",
        "price_variation = df.groupby('Company')['Price ($)'].std().idxmax()\n",
        "\n",
        "# 3. Distribution of car prices by transmission type\n",
        "sns.boxplot(x='Transmission', y='Price ($)', data=df)\n",
        "\n",
        "# 4. Distribution of car prices across regions\n",
        "sns.boxplot(x='Dealer_Region', y='Price ($)', data=df)\n",
        "\n",
        "# 5. Distribution of cars by body styles\n",
        "body_style_distribution = df['Body Style'].value_counts()\n",
        "\n",
        "# 6. Variation of price by gender and income\n",
        "sns.boxplot(x='Gender', y='Price ($)', hue='Annual Income', data=df)\n",
        "\n",
        "# 7. Distribution of car prices by region\n",
        "sns.boxplot(x='Dealer_Region', y='Price ($)', data=df)\n",
        "\n",
        "# 8. Car prices by engine sizes\n",
        "sns.boxplot(x='Engine', y='Price ($)', data=df)\n",
        "\n",
        "# 9. Car price vs. customer income bracket\n",
        "sns.scatterplot(x='Annual Income', y='Price ($)', data=df)\n",
        "\n",
        "# 10. Top 5 most sold car models\n",
        "top_models = df['Model'].value_counts().head(5)\n",
        "\n",
        "# 11. Car price variation by engine size and color\n",
        "sns.boxplot(x='Color', y='Price ($)', hue='Engine', data=df)\n",
        "\n",
        "# 12. Seasonal trend in car sales\n",
        "df['Date'] = pd.to_datetime(df['Date'])\n",
        "df['Month'] = df['Date'].dt.month\n",
        "sns.lineplot(x='Month', y='Price ($)', data=df)\n",
        "\n",
        "# 13. Car price by body style & transmission type\n",
        "sns.boxplot(x='Body Style', y='Price ($)', hue='Transmission', data=df)\n",
        "\n",
        "# 14. Correlation matrix for price, engine size, and income\n",
        "sns.heatmap(df[['Price ($)', 'Engine', 'Annual Income']].corr(), annot=True)\n",
        "\n",
        "# 15. Average price across car models & engine types\n",
        "avg_price_by_model_engine = df.groupby(['Model', 'Engine'])['Price ($)'].mean()\n"
      ],
      "metadata": {
        "id": "LLmDVpmNRZra"
      },
      "execution_count": null,
      "outputs": []
    },
    {
      "cell_type": "markdown",
      "source": [
        "EDA - 3"
      ],
      "metadata": {
        "id": "oYWWDkJyRhz7"
      }
    },
    {
      "cell_type": "code",
      "source": [
        "df = pd.read_csv(\"amazon_sales.csv\")\n",
        "\n",
        "# 1. Average rating for each category\n",
        "avg_rating_per_category = df.groupby('category')['rating'].mean()\n",
        "\n",
        "# 2. Top rating_count products by category\n",
        "top_rated_products = df.groupby('category')['rating_count'].idxmax()\n",
        "\n",
        "# 3. Distribution of discounted vs. actual prices\n",
        "sns.histplot(df['discounted_price'], bins=30, color='blue', label='Discounted')\n",
        "sns.histplot(df['actual_price'], bins=30, color='red', label='Actual', alpha=0.5)\n",
        "plt.legend()\n",
        "\n",
        "# 4. Average discount percentage by category\n",
        "avg_discount_per_category = df.groupby('category')['discount_percentage'].mean()\n",
        "\n",
        "# 5. Most popular product names\n",
        "popular_products = df['product_name'].value_counts().head(10)\n",
        "\n",
        "# 6. Most popular keywords in product descriptions\n",
        "from collections import Counter\n",
        "import nltk\n",
        "nltk.download('stopwords')\n",
        "from nltk.corpus import stopwords\n",
        "words = \" \".join(df['about_product'].dropna()).lower().split()\n",
        "filtered_words = [word for word in words if word not in stopwords.words('english')]\n",
        "common_words = Counter(filtered_words).most_common(10)\n",
        "\n",
        "# 7. Most popular product reviews\n",
        "popular_reviews = df['review_content'].value_counts().head(10)\n",
        "\n",
        "# 8. Correlation between discounted_price and rating\n",
        "correlation = df[['discounted_price', 'rating']].corr()\n",
        "\n",
        "# 9. Top 5 categories by highest ratings\n",
        "top_categories_by_rating = df.groupby('category')['rating'].mean().nlargest(5)\n",
        "\n",
        "# 10. Identify areas for improvement\n",
        "missing_values = df.isnull().sum()\n"
      ],
      "metadata": {
        "id": "GNte7yNORmpP"
      },
      "execution_count": null,
      "outputs": []
    },
    {
      "cell_type": "markdown",
      "source": [
        "EDA - 4"
      ],
      "metadata": {
        "id": "nzdkja8dRrol"
      }
    },
    {
      "cell_type": "code",
      "source": [
        "df = pd.read_csv(\"spotify_tracks.csv\")\n",
        "\n",
        "# 1. Check for null values & duplicates\n",
        "df.drop_duplicates(inplace=True)\n",
        "df.fillna(method='ffill', inplace=True)\n",
        "\n",
        "# 2. Popularity distribution\n",
        "sns.histplot(df['Popularity'])\n",
        "\n",
        "# 3. Popularity vs. Duration\n",
        "sns.scatterplot(x='Duration (ms)', y='Popularity', data=df)\n",
        "\n",
        "# 4. Artist with highest track count\n",
        "top_artists = df['Artist'].value_counts().head(5)\n",
        "\n",
        "# 5. Top 5 least popular tracks\n",
        "least_popular_tracks = df.nsmallest(5, 'Popularity')[['Artist', 'Track Name']]\n",
        "\n",
        "# 6. Most popular artist by average popularity\n",
        "most_popular_artist = df.groupby('Artist')['Popularity'].mean().idxmax()\n",
        "\n",
        "# 7. Most popular tracks for top artists\n",
        "most_popular_tracks = df.groupby('Artist')['Popularity'].idxmax()\n",
        "\n",
        "# 8. Pair plot\n",
        "sns.pairplot(df)\n",
        "\n",
        "# 9. Duration variation across artists (box plot)\n",
        "sns.boxplot(x='Artist', y='Duration (ms)', data=df)\n",
        "\n",
        "# 10. Popularity distribution by artist (violin plot)\n",
        "sns.violinplot(x='Artist', y='Popularity', data=df)\n"
      ],
      "metadata": {
        "id": "2MrOXL4zRzG7"
      },
      "execution_count": null,
      "outputs": []
    }
  ]
}